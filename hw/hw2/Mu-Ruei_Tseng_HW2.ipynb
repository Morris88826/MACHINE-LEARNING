{
 "cells": [
  {
   "cell_type": "markdown",
   "id": "29c17232",
   "metadata": {},
   "source": [
    "# CSCE633 Machine Learning - HW2"
   ]
  },
  {
   "cell_type": "markdown",
   "id": "a9b60e11",
   "metadata": {},
   "source": [
    "## Programming Questions"
   ]
  },
  {
   "cell_type": "code",
   "execution_count": null,
   "id": "47d0ef6a",
   "metadata": {},
   "outputs": [],
   "source": []
  }
 ],
 "metadata": {
  "kernelspec": {
   "display_name": "Python 3 (ipykernel)",
   "language": "python",
   "name": "python3"
  },
  "language_info": {
   "codemirror_mode": {
    "name": "ipython",
    "version": 3
   },
   "file_extension": ".py",
   "mimetype": "text/x-python",
   "name": "python",
   "nbconvert_exporter": "python",
   "pygments_lexer": "ipython3",
   "version": "3.8.8"
  }
 },
 "nbformat": 4,
 "nbformat_minor": 5
}
